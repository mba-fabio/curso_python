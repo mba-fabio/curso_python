{
 "cells": [
  {
   "cell_type": "code",
   "execution_count": 21,
   "metadata": {},
   "outputs": [
    {
     "name": "stdout",
     "output_type": "stream",
     "text": [
      "Hello world\n",
      "Hello world, concatenado por vírgula\n"
     ]
    }
   ],
   "source": [
    "# Criando meu primeiro programa em Python\n",
    "print('Hello world')\n",
    "print('Hello','world, concatenado por vírgula')"
   ]
  },
  {
   "cell_type": "code",
   "execution_count": 23,
   "metadata": {},
   "outputs": [
    {
     "name": "stdout",
     "output_type": "stream",
     "text": [
      "Resultado do primeiro cálculo:81\n",
      "Resultado do segundo cálculo:9.0\n"
     ]
    }
   ],
   "source": [
    "#Simulando uma calculadora\n",
    "num1=9\n",
    "num2=9\n",
    "\n",
    "res1=num1*num2\n",
    "res2=num1+num2/9-1\n",
    "\n",
    "print(f'Resultado do primeiro cálculo:{res1}')\n",
    "print(f'Resultado do segundo cálculo:{res2}')"
   ]
  }
 ],
 "metadata": {
  "kernelspec": {
   "display_name": "Python 3",
   "language": "python",
   "name": "python3"
  },
  "language_info": {
   "codemirror_mode": {
    "name": "ipython",
    "version": 3
   },
   "file_extension": ".py",
   "mimetype": "text/x-python",
   "name": "python",
   "nbconvert_exporter": "python",
   "pygments_lexer": "ipython3",
   "version": "3.10.11"
  },
  "orig_nbformat": 4
 },
 "nbformat": 4,
 "nbformat_minor": 2
}
